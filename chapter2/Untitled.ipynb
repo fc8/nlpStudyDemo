{
 "cells": [
  {
   "cell_type": "markdown",
   "metadata": {},
   "source": [
    "## 正则表达式"
   ]
  },
  {
   "cell_type": "code",
   "execution_count": 8,
   "metadata": {},
   "outputs": [],
   "source": [
    "import re"
   ]
  },
  {
   "cell_type": "markdown",
   "metadata": {},
   "source": [
    "### 获取包含关键字的字符"
   ]
  },
  {
   "cell_type": "code",
   "execution_count": 14,
   "metadata": {},
   "outputs": [],
   "source": [
    "str='文本最重要的来源无疑是网络。我们要把网络中的文本获取形成一个文本数据库。利用一个爬虫抓取到网络中的信息。爬取的策略有广度爬取和深度爬取。根据用户的需求，爬虫可以有主题爬虫和通用爬虫之分。'\n",
    "p_string=str.split('。')"
   ]
  },
  {
   "cell_type": "code",
   "execution_count": 18,
   "metadata": {
    "scrolled": true
   },
   "outputs": [
    {
     "name": "stdout",
     "output_type": "stream",
     "text": [
      "regex:文本,line:文本最重要的来源无疑是网络\n",
      "regex:文本,line:我们要把网络中的文本获取形成一个文本数据库\n",
      "regex:爬虫,line:利用一个爬虫抓取到网络中的信息\n",
      "regex:爬虫,line:根据用户的需求，爬虫可以有主题爬虫和通用爬虫之分\n"
     ]
    }
   ],
   "source": [
    "regex='爬虫'\n",
    "regex2='文本'\n",
    "for line in p_string:\n",
    "    if re.search(regex,line) is not None:\n",
    "        print('regex:'+regex+\",line:\"+line)\n",
    "    if re.search(regex2,line) is not None:\n",
    "        print('regex:'+regex2+\",line:\"+line)"
   ]
  },
  {
   "cell_type": "markdown",
   "metadata": {},
   "source": [
    "### 匹配一个任意字符"
   ]
  },
  {
   "cell_type": "code",
   "execution_count": 19,
   "metadata": {},
   "outputs": [
    {
     "name": "stdout",
     "output_type": "stream",
     "text": [
      "regex:爬.,line:利用一个爬虫抓取到网络中的信息\n",
      "regex:爬.,line:爬取的策略有广度爬取和深度爬取\n",
      "regex:爬.,line:根据用户的需求，爬虫可以有主题爬虫和通用爬虫之分\n",
      "regex:用户.,line:根据用户的需求，爬虫可以有主题爬虫和通用爬虫之分\n"
     ]
    }
   ],
   "source": [
    "regex='爬.'\n",
    "regex2='用户.'\n",
    "for line in p_string:\n",
    "    if re.search(regex,line) is not None:\n",
    "        print('regex:'+regex+\",line:\"+line)\n",
    "    if re.search(regex2,line) is not None:\n",
    "        print('regex:'+regex2+\",line:\"+line)"
   ]
  },
  {
   "cell_type": "markdown",
   "metadata": {},
   "source": [
    "### 匹配起始和结尾字符"
   ]
  },
  {
   "cell_type": "code",
   "execution_count": 20,
   "metadata": {
    "scrolled": true
   },
   "outputs": [
    {
     "name": "stdout",
     "output_type": "stream",
     "text": [
      "regex:^文本,line:文本最重要的来源无疑是网络\n",
      "regex:信息$,line:利用一个爬虫抓取到网络中的信息\n"
     ]
    }
   ],
   "source": [
    "regex='^文本'\n",
    "regex2='信息$'\n",
    "for line in p_string:\n",
    "    if re.search(regex,line) is not None:\n",
    "        print('regex:'+regex+\",line:\"+line)\n",
    "    if re.search(regex2,line) is not None:\n",
    "        print('regex:'+regex2+\",line:\"+line)"
   ]
  },
  {
   "cell_type": "markdown",
   "metadata": {},
   "source": [
    "### 使用中括号匹配多个字符"
   ]
  },
  {
   "cell_type": "code",
   "execution_count": 24,
   "metadata": {},
   "outputs": [
    {
     "name": "stdout",
     "output_type": "stream",
     "text": [
      "[重要的]今年第七号台风23日陆广东东部沿海地区\n",
      "no match\n",
      "[紧要的]中国对印连发强硬信息，印度急切要结東对峙\n"
     ]
    }
   ],
   "source": [
    "str=['[重要的]今年第七号台风23日陆广东东部沿海地区','上海发布车库销售监管通知：违规者暂停网签格','[紧要的]中国对印连发强硬信息，印度急切要结東对峙']\n",
    "regex='^\\[[重紧]..\\]'\n",
    "for line in str:\n",
    "    if re.search(regex,line) is not None:\n",
    "        print(line)\n",
    "    else:\n",
    "        print('no match')"
   ]
  },
  {
   "cell_type": "markdown",
   "metadata": {},
   "source": [
    "### 使用转义符"
   ]
  },
  {
   "cell_type": "code",
   "execution_count": 28,
   "metadata": {},
   "outputs": [
    {
     "name": "stdout",
     "output_type": "stream",
     "text": [
      "match it\n"
     ]
    }
   ],
   "source": [
    "#if re.search('\\\\\\\\','I have one nee\\dle') is not None:\n",
    "if re.search(r'\\\\','I have one nee\\dle') is not None:\n",
    "    print('match it')\n",
    "else:\n",
    "    print('not match')"
   ]
  },
  {
   "cell_type": "markdown",
   "metadata": {},
   "source": [
    "### 抽取文本中的数字"
   ]
  },
  {
   "cell_type": "code",
   "execution_count": 30,
   "metadata": {
    "scrolled": true
   },
   "outputs": [
    {
     "name": "stdout",
     "output_type": "stream",
     "text": [
      "['1812']\n",
      "War of 1812\n",
      "['2016']\n",
      "Happy New Year 2016!\n"
     ]
    }
   ],
   "source": [
    "str=['War of 1812','There are 5280 feet to a mile','Happy New Year 2016!']\n",
    "for s in str:\n",
    "    if re.search('[1-2][0-9]{3}',s) is not None:\n",
    "        print(re.findall('[1-2][0-9]{3}',s))\n",
    "        print(s)\n",
    "        "
   ]
  },
  {
   "cell_type": "markdown",
   "metadata": {},
   "source": [
    "## NumPy"
   ]
  },
  {
   "cell_type": "code",
   "execution_count": 32,
   "metadata": {},
   "outputs": [],
   "source": [
    "import numpy as np"
   ]
  },
  {
   "cell_type": "code",
   "execution_count": 34,
   "metadata": {},
   "outputs": [],
   "source": [
    "vector=np.array([1,2,3,4])\n",
    "matrix=np.array([[1,'Tim'],[2,'Joey'],[3,'Johnny'],[4,'Frank']])"
   ]
  },
  {
   "cell_type": "code",
   "execution_count": 37,
   "metadata": {},
   "outputs": [],
   "source": [
    "a=np.arange(15).reshape(3,5)"
   ]
  },
  {
   "cell_type": "code",
   "execution_count": 41,
   "metadata": {},
   "outputs": [
    {
     "name": "stdout",
     "output_type": "stream",
     "text": [
      "[[ 0  1  2  3  4]\n",
      " [ 5  6  7  8  9]\n",
      " [10 11 12 13 14]]\n"
     ]
    }
   ],
   "source": [
    "print(a)"
   ]
  },
  {
   "cell_type": "code",
   "execution_count": 40,
   "metadata": {},
   "outputs": [
    {
     "name": "stdout",
     "output_type": "stream",
     "text": [
      "13\n"
     ]
    }
   ],
   "source": [
    "print(a[2,3])"
   ]
  },
  {
   "cell_type": "code",
   "execution_count": 43,
   "metadata": {},
   "outputs": [
    {
     "name": "stdout",
     "output_type": "stream",
     "text": [
      "[[False False False False False]\n",
      " [False False False False False]\n",
      " [False False  True False False]]\n"
     ]
    }
   ],
   "source": [
    "print(a==12)"
   ]
  },
  {
   "cell_type": "code",
   "execution_count": 52,
   "metadata": {},
   "outputs": [
    {
     "data": {
      "text/plain": [
       "array([[10, 11, 12, 13, 14]])"
      ]
     },
     "execution_count": 52,
     "metadata": {},
     "output_type": "execute_result"
    }
   ],
   "source": [
    "a[a[:,2]==12,:]"
   ]
  }
 ],
 "metadata": {
  "kernelspec": {
   "display_name": "Python 3.8",
   "language": "python",
   "name": "python36464bit9ffca756c41c4bc0870136837a4af8eb"
  },
  "language_info": {
   "codemirror_mode": {
    "name": "ipython",
    "version": 3
   },
   "file_extension": ".py",
   "mimetype": "text/x-python",
   "name": "python",
   "nbconvert_exporter": "python",
   "pygments_lexer": "ipython3",
   "version": "3.8.5"
  }
 },
 "nbformat": 4,
 "nbformat_minor": 4
}
