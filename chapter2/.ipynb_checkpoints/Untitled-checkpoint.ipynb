{
 "cells": [
  {
   "cell_type": "code",
   "execution_count": 8,
   "metadata": {},
   "outputs": [],
   "source": [
    "import re"
   ]
  },
  {
   "cell_type": "markdown",
   "metadata": {},
   "source": [
    "### 获取包含关键字的字符"
   ]
  },
  {
   "cell_type": "code",
   "execution_count": 14,
   "metadata": {},
   "outputs": [],
   "source": [
    "str='文本最重要的来源无疑是网络。我们要把网络中的文本获取形成一个文本数据库。利用一个爬虫抓取到网络中的信息。爬取的策略有广度爬取和深度爬取。根据用户的需求，爬虫可以有主题爬虫和通用爬虫之分。'\n",
    "p_string=str.split('。')"
   ]
  },
  {
   "cell_type": "code",
   "execution_count": 18,
   "metadata": {
    "scrolled": true
   },
   "outputs": [
    {
     "name": "stdout",
     "output_type": "stream",
     "text": [
      "regex:文本,line:文本最重要的来源无疑是网络\n",
      "regex:文本,line:我们要把网络中的文本获取形成一个文本数据库\n",
      "regex:爬虫,line:利用一个爬虫抓取到网络中的信息\n",
      "regex:爬虫,line:根据用户的需求，爬虫可以有主题爬虫和通用爬虫之分\n"
     ]
    }
   ],
   "source": [
    "regex='爬虫'\n",
    "regex2='文本'\n",
    "for line in p_string:\n",
    "    if re.search(regex,line) is not None:\n",
    "        print('regex:'+regex+\",line:\"+line)\n",
    "    if re.search(regex2,line) is not None:\n",
    "        print('regex:'+regex2+\",line:\"+line)"
   ]
  },
  {
   "cell_type": "markdown",
   "metadata": {},
   "source": [
    "### 匹配一个任意字符"
   ]
  },
  {
   "cell_type": "code",
   "execution_count": 19,
   "metadata": {},
   "outputs": [
    {
     "name": "stdout",
     "output_type": "stream",
     "text": [
      "regex:爬.,line:利用一个爬虫抓取到网络中的信息\n",
      "regex:爬.,line:爬取的策略有广度爬取和深度爬取\n",
      "regex:爬.,line:根据用户的需求，爬虫可以有主题爬虫和通用爬虫之分\n",
      "regex:用户.,line:根据用户的需求，爬虫可以有主题爬虫和通用爬虫之分\n"
     ]
    }
   ],
   "source": [
    "regex='爬.'\n",
    "regex2='用户.'\n",
    "for line in p_string:\n",
    "    if re.search(regex,line) is not None:\n",
    "        print('regex:'+regex+\",line:\"+line)\n",
    "    if re.search(regex2,line) is not None:\n",
    "        print('regex:'+regex2+\",line:\"+line)"
   ]
  },
  {
   "cell_type": "markdown",
   "metadata": {},
   "source": [
    "### 匹配起始和结尾字符"
   ]
  },
  {
   "cell_type": "code",
   "execution_count": 20,
   "metadata": {
    "scrolled": true
   },
   "outputs": [
    {
     "name": "stdout",
     "output_type": "stream",
     "text": [
      "regex:^文本,line:文本最重要的来源无疑是网络\n",
      "regex:信息$,line:利用一个爬虫抓取到网络中的信息\n"
     ]
    }
   ],
   "source": [
    "regex='^文本'\n",
    "regex2='信息$'\n",
    "for line in p_string:\n",
    "    if re.search(regex,line) is not None:\n",
    "        print('regex:'+regex+\",line:\"+line)\n",
    "    if re.search(regex2,line) is not None:\n",
    "        print('regex:'+regex2+\",line:\"+line)"
   ]
  },
  {
   "cell_type": "markdown",
   "metadata": {},
   "source": [
    "### 使用中括号匹配多个字符"
   ]
  },
  {
   "cell_type": "code",
   "execution_count": null,
   "metadata": {},
   "outputs": [],
   "source": []
  }
 ],
 "metadata": {
  "kernelspec": {
   "display_name": "Python 3.8",
   "language": "python",
   "name": "python36464bit9ffca756c41c4bc0870136837a4af8eb"
  },
  "language_info": {
   "codemirror_mode": {
    "name": "ipython",
    "version": 3
   },
   "file_extension": ".py",
   "mimetype": "text/x-python",
   "name": "python",
   "nbconvert_exporter": "python",
   "pygments_lexer": "ipython3",
   "version": "3.8.5"
  }
 },
 "nbformat": 4,
 "nbformat_minor": 4
}
